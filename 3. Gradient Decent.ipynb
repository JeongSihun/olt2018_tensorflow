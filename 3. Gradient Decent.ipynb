{
 "cells": [
  {
   "cell_type": "code",
   "execution_count": 1,
   "metadata": {
    "collapsed": true
   },
   "outputs": [],
   "source": [
    "import tensorflow as tf\n",
    "import matplotlib.pyplot as plt\n",
    "\n",
    "%matplotlib inline"
   ]
  },
  {
   "cell_type": "markdown",
   "metadata": {},
   "source": [
    "![](data/gradient_decent.png)\n",
    "\n",
    "\n",
    "목적함수 $f$의 최솟값(minimum)을 찾아가는 알고리즘으로 다음과 같은 방식으로 최솟값을 찾아간다.\n",
    " - 초기값 $x_0$을 임의로 설정, 적당한 Learning rate $\\alpha$ 설정\n",
    " - $n\\geq 0$인 정수에 대해서 $x_{n+1}$은 다음과 같이 정의한다.\n",
    "$$\n",
    "x_{n+1} := x_n - \\alpha \\cdot \\nabla f(x_n)\n",
    "$$\n",
    " - 주의사항\n",
    "     - 함수 $f$의 모양이 convex가 아닌 경우 global minimum이 아닌 local minimum으로 $x_n$이 수렴할 가능성이 있다.\n",
    "     - Learning rate $\\alpha$ 값이 큰 경우 최솟값으로 $x_n$이 수렴하는 것이 아니라 발산할 수 있다.\n",
    "     - Learning rate $\\alpha$ 값이 작은 경우 수렴하는 속도가 지나치게 느릴 수 있다.\n",
    "     \n",
    "![](data/gradient2.png)\n",
    "\n",
    "방정식 $2\\cdot x = 10$ 의 근을 Gradient Decent를 이용해서 찾아보자.\n",
    " - 목적함수 $f(x):=(10-2x)^2$으로 설정하겠다($f$의 최솟값인 0이 되게하는 $x$값이 우리가 원하는 방정식의 근이다).\n",
    " - 초기값 $x_0 = 0$, Learning rate $\\alpha=0.05$으로 설정\n",
    " \n",
    "$f'(x) = 4(2x-10)$이므로 $x_1$은 다음과 같이 구할 수 있다.\n",
    "\\begin{align}\n",
    "x_1 &= x_0 -\\alpha \\cdot f'(x_0)\\\\\n",
    "&= 0 - 0.05 \\cdot (-40)\\\\\n",
    "&=2\n",
    "\\end{align}\n",
    "\n",
    "그리고 $x_2$는\n",
    "\\begin{align}\n",
    "x_2 &= x_1 -\\alpha \\cdot f'(x_1)\\\\\n",
    "&= 2 - 0.05 \\cdot (-24)\\\\\n",
    "&=3.2\n",
    "\\end{align}\n",
    "\n",
    "반복적으로 이 같은 작업을 반복해서 $x_n$의 수열을 다음과 같이 얻을 수 있다.\n",
    "$$\n",
    "(x_n) = (0, 2, 3.2, 3.92, 4.352, 4.6112, ...)\n",
    "$$\n",
    "\n",
    "이를 `TensorFlow code`로 작성하면 다음과 같이 작성 할 수 있다."
   ]
  },
  {
   "cell_type": "code",
   "execution_count": 2,
   "metadata": {},
   "outputs": [
    {
     "name": "stdout",
     "output_type": "stream",
     "text": [
      "x_0 = 0.0\n",
      "x_1 = 2.0\n",
      "x_2 = 3.2\n",
      "x_3 = 3.92\n",
      "x_4 = 4.352\n",
      "x_5 = 4.6112\n",
      "x_6 = 4.76672\n",
      "x_7 = 4.86003\n",
      "x_8 = 4.91602\n",
      "x_9 = 4.94961\n"
     ]
    },
    {
     "data": {
      "image/png": "[encoded data removed]",
      "text/plain": [
       "<matplotlib.figure.Figure at 0x181d13fdd8>"
      ]
     },
     "metadata": {},
     "output_type": "display_data"
    }
   ],
   "source": [
    "# 방정식 2*x = 10 을 만족하는 x 찾기\n",
    "# x 초깃값 = 0\n",
    "\n",
    "X = tf.Variable(0.)\n",
    "Y = tf.constant(10.)\n",
    "H = 2 * X\n",
    "\n",
    "\n",
    "loss = tf.square(H-Y)\n",
    "optimize = tf.train.GradientDescentOptimizer(0.05).minimize(loss)\n",
    "\n",
    "\n",
    "sess = tf.Session()\n",
    "sess.run(tf.global_variables_initializer())\n",
    "sequence = []\n",
    "\n",
    "for i in range(10):\n",
    "    print(\"x_%i = %s\" %(+i, sess.run(X)))\n",
    "    sess.run(optimize)\n",
    "    sequence.append(sess.run(X))\n",
    "\n",
    "plt.suptitle(\"Sequence of x\", fontsize=20)\n",
    "plt.ylabel(\"x value\")\n",
    "plt.xlabel(\"Steps\")\n",
    "_ = plt.plot(sequence, \"o\")"
   ]
  },
  {
   "cell_type": "code",
   "execution_count": null,
   "metadata": {
    "collapsed": true
   },
   "outputs": [],
   "source": []
  }
 ],
 "metadata": {
  "kernelspec": {
   "display_name": "Python 3",
   "language": "python",
   "name": "python3"
  },
  "language_info": {
   "codemirror_mode": {
    "name": "ipython",
    "version": 3
   },
   "file_extension": ".py",
   "mimetype": "text/x-python",
   "name": "python",
   "nbconvert_exporter": "python",
   "pygments_lexer": "ipython3",
   "version": "3.6.3"
  }
 },
 "nbformat": 4,
 "nbformat_minor": 2
}
