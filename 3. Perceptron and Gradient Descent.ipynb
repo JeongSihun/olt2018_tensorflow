{
 "cells": [
  {
   "cell_type": "code",
   "execution_count": 1,
   "metadata": {},
   "outputs": [
    {
     "name": "stderr",
     "output_type": "stream",
     "text": [
      "/Users/minjunggim/anaconda3/lib/python3.6/site-packages/h5py/__init__.py:36: FutureWarning: Conversion of the second argument of issubdtype from `float` to `np.floating` is deprecated. In future, it will be treated as `np.float64 == np.dtype(float).type`.\n",
      "  from ._conv import register_converters as _register_converters\n"
     ]
    }
   ],
   "source": [
    "import tensorflow as tf\n",
    "import matplotlib.pyplot as plt\n",
    "\n",
    "%matplotlib inline"
   ]
  },
  {
   "cell_type": "markdown",
   "metadata": {},
   "source": [
    "# Perceptron\n",
    "\n",
    "Perceptron 이란 neuron을 구성하는 하나의 단위를 의미하며 다음과 같다.\n",
    "\n",
    "![](data/perceptron.png)\n",
    "\n",
    "입력변수 $X=(x_1,\\cdots,x_n)$, weight $W = \\left(\\begin{array}{cc} w_{1}\\\\ \\vdots  \\\\ w_{n} \\end{array}\\right)$, bias $b$, activation function(활성함수) $f$ 및 출력\n",
    "$$\n",
    "H(X)=f(XW+b) = f\\left(\\sum_{i=1}^n w_i x_i +b \\right )\n",
    "$$\n",
    "\n",
    "으로 구성되어있고 주어진 데이터를 잘 설명하는 $W$와 $b$를 찾는 것이 학습의 목적이다."
   ]
  },
  {
   "cell_type": "markdown",
   "metadata": {},
   "source": [
    "# Activation function\n",
    "Activation function으로 주로 쓰이는 함수들은 다음과 같다.\n",
    "- **Step function**: $$\\,\n",
    "f(z):= \\begin{cases} 1 \\quad \\text{if } z\\geq 0\\\\\n",
    "0 \\quad \\text{otherwise}\n",
    "\\end{cases}\n",
    "$$\n",
    "또는\n",
    "$$\\,\n",
    "f(z):= \\begin{cases} 1 \\quad \\text{if } z\\geq 0\\\\\n",
    "-1 \\quad \\text{otherwise}\n",
    "\\end{cases}\n",
    "$$\n",
    "\n",
    "- **linear(without activation)**:\n",
    "$$\\,\n",
    "f(z):= z\n",
    "$$\n",
    "\n",
    "- **Sigmoid, `tf.sigmoid`**:\n",
    "$$\\,\n",
    "f(z):= \\frac{1}{1+e^{-z}}\n",
    "$$\n",
    "\n",
    "- **Hyperbolic tangent, `tf.tanh`**:\n",
    "$$\\,\n",
    "f(z):= \\tanh(z)\n",
    "$$\n",
    "\n",
    "- **Relu, Rectified Linear Unit, `tf.nn.relu`**:\n",
    "$$\\,\n",
    "f(z):= \\max(0,z)\n",
    "$$"
   ]
  },
  {
   "cell_type": "code",
   "execution_count": 2,
   "metadata": {},
   "outputs": [],
   "source": [
    "X = tf.constant(\n",
    "    [[1,1],\n",
    "     [2,2],\n",
    "     [3,3]], dtype=tf.float32)\n",
    "\n",
    "W = tf.constant([[1],\n",
    "                [2]], dtype=tf.float32)\n",
    "\n",
    "b = tf.constant(0, dtype=tf.float32)\n",
    "\n",
    "H = tf.matmul(X, W) + b"
   ]
  },
  {
   "cell_type": "markdown",
   "metadata": {},
   "source": [
    "$$\n",
    "X = \\left(\\begin{array}{cc} 1& 1\\\\\n",
    "2 & 2 \\\\\n",
    "3& 3 \\\\\n",
    "\\end{array}\\right) \n",
    "$$\n",
    "\n",
    "$$\n",
    "W = \\left(\\begin{array}{cc} 1\\\\\n",
    "2 \\\\\n",
    "\\end{array}\\right) \n",
    "$$\n",
    "\n",
    "$$\n",
    "b = 0\n",
    "$$\n",
    "\n",
    "$$\n",
    "XW + b = \\left(\\begin{array}{cc} 1& 1\\\\\n",
    "2 & 2 \\\\\n",
    "3& 3 \\\\\n",
    "\\end{array}\\right) \\left(\\begin{array}{cc} 1\\\\\n",
    "2 \\\\\n",
    "\\end{array}\\right) \n",
    "+ \\left(\\begin{array}{cc} 0\\\\\n",
    "0 \\\\\n",
    "0 \\\\\n",
    "\\end{array}\\right) = \\left(\\begin{array}{cc} 3\\\\\n",
    "6 \\\\\n",
    "9 \\\\\n",
    "\\end{array}\\right)\n",
    "$$"
   ]
  },
  {
   "cell_type": "code",
   "execution_count": 3,
   "metadata": {},
   "outputs": [
    {
     "name": "stdout",
     "output_type": "stream",
     "text": [
      "[[3.]\n",
      " [6.]\n",
      " [9.]]\n"
     ]
    }
   ],
   "source": [
    "sess = tf.Session()\n",
    "print(sess.run(H))"
   ]
  },
  {
   "cell_type": "markdown",
   "metadata": {},
   "source": [
    "# Gradient Descent Optimizer\n",
    "\n",
    "\n",
    "목적함수 $f$의 최솟값(minimum)을 찾아가는 알고리즘으로 다음과 같은 방식으로 최솟값을 찾아간다.\n",
    "- 초기값 $x_0$와 적당한 Learning rate $\\alpha$ 설정\n",
    "- $n\\geq 0$인 정수에 대해서 $x_{n+1}$은 다음과 같이 정의한다.\n",
    "\n",
    "$$\n",
    "x_{n+1} := x_n - \\alpha \\cdot \\nabla f(x_n)\n",
    "$$\n",
    "\n",
    "- 주의사항\n",
    "    - 함수$f$의 모양이 convex가 아닌 경우 global minimum이 아닌 local minimum으로 $x_n$이 수렴할 가능성이 있다.\n",
    "    - Learning rate $\\alpha$ 값이 큰 경우 최솟값으로 $x_n$이 수렴하는 것이 아니라 발산할 수 있다.\n",
    "    - Learning rate $\\alpha$ 값이 작은 경우 수렴하는 속도가 지나치게 느릴 수 있다.\n",
    "     \n",
    "![](data/gradient2.png)\n",
    "\n",
    "방정식 $2\\cdot x = 10$ 의 근을 Gradient Descent 알고리즘을 이용해서 찾아보자.\n",
    "- 목적함수 $f(x):=(2x-10)^2$으로 설정 *($f$의 최솟값인 0이 되는 $x$값이 우리가 원하는 방정식의 근)*\n",
    "- 초기값 $x_0 = 0$, Learning rate $\\alpha=0.05$으로 설정\n",
    " \n",
    "$f'(x) = 4(2x-10)$이므로 $x_1$은 다음과 같이 구할 수 있다.\n",
    "\\begin{align}\n",
    "x_1 &= x_0 -\\alpha \\cdot f'(x_0)\\\\\n",
    "&= 0 - 0.05 \\cdot (-40)\\\\\n",
    "&=2\n",
    "\\end{align}\n",
    "\n",
    "그리고 $x_2$는\n",
    "\\begin{align}\n",
    "x_2 &= x_1 -\\alpha \\cdot f'(x_1)\\\\\n",
    "&= 2 - 0.05 \\cdot (-24)\\\\\n",
    "&=3.2\n",
    "\\end{align}\n",
    "\n",
    "반복적으로 이 같은 작업을 반복해서 $x_n$의 수열을 다음과 같이 얻을 수 있다.\n",
    "$$\n",
    "(x_n) = (0, 2, 3.2, 3.92, 4.352, 4.6112, ...)\n",
    "$$\n",
    "\n",
    "이를 `TensorFlow code`로 작성하면 다음과 같이 작성 할 수 있다."
   ]
  },
  {
   "cell_type": "code",
   "execution_count": 4,
   "metadata": {},
   "outputs": [
    {
     "name": "stdout",
     "output_type": "stream",
     "text": [
      "x_0 = 0.0\n",
      "x_1 = 2.0\n",
      "x_2 = 3.2\n",
      "x_3 = 3.92\n",
      "x_4 = 4.352\n",
      "x_5 = 4.6112003\n",
      "x_6 = 4.7667203\n",
      "x_7 = 4.860032\n",
      "x_8 = 4.9160194\n",
      "x_9 = 4.9496117\n"
     ]
    },
    {
     "data": {
      "image/png": "[encoded data removed]",
      "text/plain": [
       "<Figure size 432x288 with 1 Axes>"
      ]
     },
     "metadata": {},
     "output_type": "display_data"
    }
   ],
   "source": [
    "# 방정식 2*x = 10 을 만족하는 x 찾기\n",
    "# x 초깃값 = 0\n",
    "\n",
    "X = tf.Variable(0.)\n",
    "Y = tf.constant(10.)\n",
    "H = 2 * X\n",
    "\n",
    "\n",
    "loss = tf.square(H-Y)\n",
    "optimize = tf.train.GradientDescentOptimizer(0.05).minimize(loss)\n",
    "\n",
    "\n",
    "sess = tf.Session()\n",
    "sess.run(tf.global_variables_initializer())\n",
    "sequence = []\n",
    "\n",
    "for i in range(10):\n",
    "    print(\"x_%i = %s\" %(+i, sess.run(X)))\n",
    "    sess.run(optimize)\n",
    "    sequence.append(sess.run(X))\n",
    "\n",
    "plt.suptitle(\"Sequence of x\", fontsize=20)\n",
    "plt.ylabel(\"x value\")\n",
    "plt.xlabel(\"Steps\")\n",
    "_ = plt.plot(sequence, \"o\")"
   ]
  },
  {
   "cell_type": "code",
   "execution_count": null,
   "metadata": {},
   "outputs": [],
   "source": []
  }
 ],
 "metadata": {
  "kernelspec": {
   "display_name": "Python 3",
   "language": "python",
   "name": "python3"
  },
  "language_info": {
   "codemirror_mode": {
    "name": "ipython",
    "version": 3
   },
   "file_extension": ".py",
   "mimetype": "text/x-python",
   "name": "python",
   "nbconvert_exporter": "python",
   "pygments_lexer": "ipython3",
   "version": "3.6.4"
  }
 },
 "nbformat": 4,
 "nbformat_minor": 2
}
