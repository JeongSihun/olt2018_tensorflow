{
 "cells": [
  {
   "cell_type": "code",
   "execution_count": 1,
   "metadata": {
    "collapsed": true
   },
   "outputs": [],
   "source": [
    "import tensorflow as tf\n",
    "import numpy as np\n",
    "import matplotlib.pyplot as plt\n",
    "\n",
    "%matplotlib inline"
   ]
  },
  {
   "cell_type": "markdown",
   "metadata": {},
   "source": [
    "# 'XOR' Binary Classification `without(and with) Hidden layer`\n",
    "\n",
    "다음은 `회귀분석(regression)`이 아닌 `분류(classificaion)`을 살펴보자. 분류 중에서 주어진 데이터를 두 개의 그룹(0 또는 1)으로 분류하는 이진 분류(binary classification)을 다룰 것이다. 회귀분석과 달리 이진 분류는 최종 레이어 $H$를 정의할 때 `Sigmoid`를 사용한다([참고](https://mjgim.icim.or.kr/2017/11/17/Sigmoid.html)). \n",
    "\n",
    "| $X$ | $y$  |\n",
    "|:---:|:---:|\n",
    "|  (0,0) | 0  |\n",
    "|  (0,1) | 1  |\n",
    "|  (1,0) | 1  |\n",
    "|  (1,1) | 0  |\n",
    "\n",
    "\n",
    "$X$와 $y$가 위와 같이 주어져 있다고 했을 때 $x$와 $y$사이를 잘 설명하는\n",
    "\n",
    "$$\n",
    "H(X) = s(XW + b) = s( w_1 \\cdot x_1 + w_2 \\cdot x_2 +b)\n",
    "$$\n",
    "\n",
    "를 찾는 것이다. 여기서 $s(z):=\\frac{1}{1+e^{-z}}$이고 $W = (w_1, w_2)$이다. 즉, 주어진 데이터를 잘 설명하는 $H(x)$의 $W$와 $b$를 찾는 것 이다. \n",
    "\n",
    "![](data/binary1.png)\n",
    "\n",
    "$y=0$ 또는 $1$ 이기 때문에 cost 함수는 MSE가 아닌 Cross Entropy로 정의한다.\n",
    "\n",
    "![](data/ce.png)\n",
    "\n",
    "\n",
    "$$\n",
    "cost = - \\frac{1}{4}\\sum_{i=1}^4 \\Big( y_i \\cdot \\log(H(x_i)) + (1 - y_i) \\cdot \\log(1 - H(x_i)) \\Big)\n",
    "$$\n",
    "\n",
    "### 이 과정을 `TensorFlow code`로 작성하면 다음과 같이 작성 할 수 있다."
   ]
  },
  {
   "cell_type": "code",
   "execution_count": 2,
   "metadata": {},
   "outputs": [
    {
     "data": {
      "image/png": "[encoded data removed]",
      "text/plain": [
       "<matplotlib.figure.Figure at 0x181c5d7630>"
      ]
     },
     "metadata": {},
     "output_type": "display_data"
    }
   ],
   "source": [
    "x_data = [[0,0],\n",
    "          [0,1],\n",
    "          [1,0],\n",
    "          [1,1]]\n",
    "\n",
    "y_data = [[0],\n",
    "         [1],\n",
    "         [1],\n",
    "         [0]]\n",
    "\n",
    "plt.xlim(-0.5,1.5)\n",
    "plt.ylim(-0.5,1.5)\n",
    "\n",
    "for i, j in enumerate(y_data):\n",
    "    if j == [0] : \n",
    "        _ = plt.plot(x_data[i][0], x_data[i][1], \"ro\")\n",
    "    else :\n",
    "        _ = plt.plot(x_data[i][0], x_data[i][1], \"bo\")"
   ]
  },
  {
   "cell_type": "code",
   "execution_count": 3,
   "metadata": {
    "collapsed": true
   },
   "outputs": [],
   "source": [
    "X = tf.placeholder(tf.float32, shape=[None,2])\n",
    "Y = tf.placeholder(tf.float32, shape=[None,1])\n",
    "\n",
    "W = tf.Variable(tf.random_normal([2,1]), dtype=tf.float32)\n",
    "b = tf.Variable(tf.random_normal([1]), dtype=tf.float32)\n",
    "\n",
    "H = tf.sigmoid(tf.matmul(X,W)+b)\n",
    "\n",
    "loss = - tf.reduce_mean(Y * tf.log(H) + (1 - Y) * tf.log(1 - H))\n",
    "train = tf.train.GradientDescentOptimizer(learning_rate=0.5).minimize(loss)\n",
    "\n",
    "# Accuracy computation\n",
    "# True if hypothesis>0.5 else False\n",
    "predicted = tf.cast(H > 0.5, dtype=tf.float32)\n",
    "accuracy = tf.reduce_mean(tf.cast(tf.equal(predicted, Y), dtype=tf.float32))"
   ]
  },
  {
   "cell_type": "code",
   "execution_count": 4,
   "metadata": {
    "scrolled": false
   },
   "outputs": [
    {
     "name": "stdout",
     "output_type": "stream",
     "text": [
      "Step : 100, Cost : 0.6932  Accuracy : 0.25\n",
      "Step : 200, Cost : 0.693148  Accuracy : 0.25\n",
      "Step : 300, Cost : 0.693147  Accuracy : 0.25\n",
      "Step : 400, Cost : 0.693147  Accuracy : 0.25\n",
      "Step : 500, Cost : 0.693147  Accuracy : 0.25\n",
      "Step : 600, Cost : 0.693147  Accuracy : 0.25\n",
      "Step : 700, Cost : 0.693147  Accuracy : 0.5\n",
      "Step : 800, Cost : 0.693147  Accuracy : 0.5\n",
      "Step : 900, Cost : 0.693147  Accuracy : 0.5\n",
      "Step : 1000, Cost : 0.693147  Accuracy : 0.5\n"
     ]
    },
    {
     "data": {
      "image/png": "[encoded data removed]",
      "text/plain": [
       "<matplotlib.figure.Figure at 0x1824991860>"
      ]
     },
     "metadata": {},
     "output_type": "display_data"
    }
   ],
   "source": [
    "# Launch the graph in a session.\n",
    "sess = tf.Session()\n",
    "# Initializes global variables in the graph.\n",
    "sess.run(tf.global_variables_initializer())\n",
    "\n",
    "cost_list = []\n",
    "acc_list = []\n",
    "\n",
    "iteration = 1000\n",
    "for step in range(iteration):\n",
    "    acc, cost, _, = sess.run([accuracy, loss,  train], feed_dict={X: x_data, Y: y_data})\n",
    "    cost_list.append(cost)\n",
    "    acc_list.append(acc)\n",
    "    if (step+1) % (iteration//10) ==0:\n",
    "        print(\"Step : %i, Cost : %s  Accuracy : %s\" %(step+1, cost, acc)) \n",
    "\n",
    "plt.figure(figsize=(12,9))     \n",
    "plt.subplot(221)\n",
    "plt.xlabel(\"Steps\")\n",
    "_ = plt.plot(cost_list, \"c\")\n",
    "plt.subplot(222)\n",
    "plt.xlabel(\"Steps\")\n",
    "_ = plt.plot(acc_list, \"k--\")"
   ]
  },
  {
   "cell_type": "markdown",
   "metadata": {
    "collapsed": true
   },
   "source": [
    "# 'XOR' Problem의 경우 Hidden layer가 없는 하나의 Perceptron으로는 해결 불가능\n",
    "\n",
    "다음과 같이 `Hidden layer`를 추가해서 모델 구성을 해야한다.\n",
    "\n",
    "![](data/binary2.png)"
   ]
  },
  {
   "cell_type": "code",
   "execution_count": 5,
   "metadata": {
    "collapsed": true
   },
   "outputs": [],
   "source": [
    "X = tf.placeholder(tf.float32, shape=[None,2])\n",
    "Y = tf.placeholder(tf.float32, shape=[None,1])\n",
    "\n",
    "W0 = tf.Variable(tf.random_normal([2,2]), dtype=tf.float32)\n",
    "b0 = tf.Variable(tf.random_normal([2]), dtype=tf.float32)\n",
    "\n",
    "H0 = tf.nn.sigmoid(tf.matmul(X,W0)+b0)\n",
    "\n",
    "W1 = tf.Variable(tf.random_normal([2,1]), dtype=tf.float32)\n",
    "b1 = tf.Variable(tf.random_normal([1]), dtype=tf.float32)\n",
    "\n",
    "H = tf.sigmoid(tf.matmul(H0,W1)+b1)\n",
    "\n",
    "loss = - tf.reduce_mean(Y * tf.log(H) + (1 - Y) * tf.log(1 - H))\n",
    "train = tf.train.GradientDescentOptimizer(learning_rate=0.5).minimize(loss)\n",
    "\n",
    "# Accuracy computation\n",
    "# True if hypothesis>0.5 else False\n",
    "predicted = tf.cast(H > 0.5, dtype=tf.float32)\n",
    "accuracy = tf.reduce_mean(tf.cast(tf.equal(predicted, Y), dtype=tf.float32))"
   ]
  },
  {
   "cell_type": "code",
   "execution_count": 6,
   "metadata": {},
   "outputs": [
    {
     "name": "stdout",
     "output_type": "stream",
     "text": [
      "Step : 100, Cost : 0.688526  Accuracy : 0.5\n",
      "Step : 200, Cost : 0.67567  Accuracy : 0.5\n",
      "Step : 300, Cost : 0.631965  Accuracy : 0.75\n",
      "Step : 400, Cost : 0.535598  Accuracy : 0.75\n",
      "Step : 500, Cost : 0.33913  Accuracy : 1.0\n",
      "Step : 600, Cost : 0.172524  Accuracy : 1.0\n",
      "Step : 700, Cost : 0.103237  Accuracy : 1.0\n",
      "Step : 800, Cost : 0.0712942  Accuracy : 1.0\n",
      "Step : 900, Cost : 0.0537444  Accuracy : 1.0\n",
      "Step : 1000, Cost : 0.0428497  Accuracy : 1.0\n"
     ]
    },
    {
     "data": {
      "image/png": "[encoded data removed]",
      "text/plain": [
       "<matplotlib.figure.Figure at 0x1824af6a58>"
      ]
     },
     "metadata": {},
     "output_type": "display_data"
    }
   ],
   "source": [
    "# Launch the graph in a session.\n",
    "sess = tf.Session()\n",
    "# Initializes global variables in the graph.\n",
    "sess.run(tf.global_variables_initializer())\n",
    "\n",
    "cost_list = []\n",
    "acc_list = []\n",
    "\n",
    "iteration = 1000\n",
    "for step in range(iteration):\n",
    "    acc, cost, _, = sess.run([accuracy, loss,  train,], feed_dict={X: x_data, Y: y_data})\n",
    "    cost_list.append(cost)\n",
    "    acc_list.append(acc)\n",
    "    if (step+1) % (iteration//10) ==0:\n",
    "        print(\"Step : %i, Cost : %s  Accuracy : %s\" %(step+1, cost, acc)) \n",
    "\n",
    "plt.figure(figsize=(12,9))     \n",
    "plt.subplot(221)\n",
    "plt.xlabel(\"Steps\")\n",
    "_ = plt.plot(cost_list, \"c\")\n",
    "plt.subplot(222)\n",
    "plt.xlabel(\"Steps\")\n",
    "_ = plt.plot(acc_list, \"k--\")"
   ]
  }
 ],
 "metadata": {
  "kernelspec": {
   "display_name": "Python 3",
   "language": "python",
   "name": "python3"
  },
  "language_info": {
   "codemirror_mode": {
    "name": "ipython",
    "version": 3
   },
   "file_extension": ".py",
   "mimetype": "text/x-python",
   "name": "python",
   "nbconvert_exporter": "python",
   "pygments_lexer": "ipython3",
   "version": "3.6.3"
  }
 },
 "nbformat": 4,
 "nbformat_minor": 2
}
