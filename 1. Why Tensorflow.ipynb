{
 "cells": [
  {
   "cell_type": "markdown",
   "metadata": {},
   "source": [
    "## [TensorFlow](https://www.tensorflow.org/)\n",
    "\n",
    "![](data/tensorflow.png)\n",
    "\n",
    "- `딥러닝` 프로그램을 구현할 수 있는 라이브러리(구글 제작)\n",
    "- Python api\n",
    "- 사용자 커뮤니티\n",
    "\n",
    "- [TensorFlow vs others](https://trends.google.com/trends/explore?q=tensorflow%20deep%20learning,torch%20deep%20learning,caffe%20deep%20learning,keras%20deep%20learning)\n",
    "- [Ranking Popular Deep Learning Libraries for Data Science](https://blog.thedataincubator.com/2017/10/ranking-popular-deep-learning-libraries-for-data-science/)\n",
    "- [Tensorboard](https://www.tensorflow.org/get_started/graph_viz)\n",
    "\n",
    "\n",
    "\n",
    "## Python vs R\n",
    " - [Google trend](https://trends.google.com/trends/explore?q=python%20data%20science,r%20data%20science)"
   ]
  },
  {
   "cell_type": "code",
   "execution_count": 1,
   "metadata": {
    "collapsed": true
   },
   "outputs": [],
   "source": [
    "import tensorflow as tf"
   ]
  },
  {
   "cell_type": "code",
   "execution_count": 2,
   "metadata": {},
   "outputs": [
    {
     "data": {
      "text/plain": [
       "'1.4.0'"
      ]
     },
     "execution_count": 2,
     "metadata": {},
     "output_type": "execute_result"
    }
   ],
   "source": [
    "tf.__version__"
   ]
  },
  {
   "cell_type": "code",
   "execution_count": null,
   "metadata": {
    "collapsed": true
   },
   "outputs": [],
   "source": []
  }
 ],
 "metadata": {
  "kernelspec": {
   "display_name": "Python 3",
   "language": "python",
   "name": "python3"
  },
  "language_info": {
   "codemirror_mode": {
    "name": "ipython",
    "version": 3
   },
   "file_extension": ".py",
   "mimetype": "text/x-python",
   "name": "python",
   "nbconvert_exporter": "python",
   "pygments_lexer": "ipython3",
   "version": "3.6.3"
  }
 },
 "nbformat": 4,
 "nbformat_minor": 2
}
