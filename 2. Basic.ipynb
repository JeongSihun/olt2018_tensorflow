{
 "cells": [
  {
   "cell_type": "code",
   "execution_count": 1,
   "metadata": {
    "collapsed": true
   },
   "outputs": [],
   "source": [
    "import tensorflow as tf"
   ]
  },
  {
   "cell_type": "code",
   "execution_count": 2,
   "metadata": {},
   "outputs": [
    {
     "name": "stdout",
     "output_type": "stream",
     "text": [
      "Tensor(\"Add:0\", shape=(), dtype=int32)\n"
     ]
    }
   ],
   "source": [
    "# tf.constant: 변하지 않는 텐서\n",
    "\n",
    "a = tf.constant(10)\n",
    "b = tf.constant(20)\n",
    "c = tf.add(a, b)\n",
    "print(c)"
   ]
  },
  {
   "cell_type": "markdown",
   "metadata": {},
   "source": [
    "![](data/add.png)"
   ]
  },
  {
   "cell_type": "code",
   "execution_count": 3,
   "metadata": {},
   "outputs": [
    {
     "name": "stdout",
     "output_type": "stream",
     "text": [
      "[10, 20, 30]\n"
     ]
    }
   ],
   "source": [
    "# 그래프를 실행할 세션을 구성\n",
    "sess = tf.Session()\n",
    "\n",
    "# sess.run: 설정한 텐서 그래프 실행\n",
    "\n",
    "print(sess.run([a, b, c]))"
   ]
  },
  {
   "cell_type": "code",
   "execution_count": 4,
   "metadata": {},
   "outputs": [
    {
     "name": "stdout",
     "output_type": "stream",
     "text": [
      "Tensor(\"Placeholder:0\", shape=(?, 2), dtype=float32)\n"
     ]
    }
   ],
   "source": [
    "# tf.placeholder: 입력값을 받는 플레이스홀더\n",
    "\n",
    "X = tf.placeholder(tf.float32, [None, 2])\n",
    "print(X)"
   ]
  },
  {
   "cell_type": "code",
   "execution_count": 5,
   "metadata": {
    "collapsed": true
   },
   "outputs": [],
   "source": [
    "# X 플레이스홀더에 대입하는 값\n",
    "x_data = [[1, 2], [3, 4]]"
   ]
  },
  {
   "cell_type": "code",
   "execution_count": 6,
   "metadata": {
    "collapsed": true
   },
   "outputs": [],
   "source": [
    "# tf.Variable: 그래프를 계산하면서 최적화 할 변수들\n",
    "\n",
    "\n",
    "# tf.random_normal: 정규분포(평균 = 0, 표준편차 =1)\n",
    "W = tf.Variable([[1., 1.],[2., 2.]]) #초깃값을 고정해서 배정\n",
    "b = tf.Variable(tf.random_normal([2, 2]))#초깃값을 정규분포에서 추출\n",
    "\n",
    "# 입력값과 변수들을 계산할 수식을 작성.\n",
    "H = tf.matmul(X, W) + b"
   ]
  },
  {
   "cell_type": "code",
   "execution_count": 7,
   "metadata": {
    "scrolled": true
   },
   "outputs": [
    {
     "name": "stdout",
     "output_type": "stream",
     "text": [
      "[[ 1.  1.]\n",
      " [ 2.  2.]]\n",
      "[[ 0.47520596 -1.98988926]\n",
      " [ 0.96339422  0.86111993]]\n",
      "[[  5.4752059    3.01011086]\n",
      " [ 11.96339417  11.86112022]]\n"
     ]
    }
   ],
   "source": [
    "sess = tf.Session()\n",
    "\n",
    "# Variable은 초기화를 해야함\n",
    "sess.run(tf.global_variables_initializer())\n",
    "\n",
    "print(sess.run(W))\n",
    "print(sess.run(b))\n",
    "\n",
    "\n",
    "print(sess.run(H, feed_dict={X: x_data}))"
   ]
  },
  {
   "cell_type": "code",
   "execution_count": null,
   "metadata": {
    "collapsed": true
   },
   "outputs": [],
   "source": []
  }
 ],
 "metadata": {
  "kernelspec": {
   "display_name": "Python 3",
   "language": "python",
   "name": "python3"
  },
  "language_info": {
   "codemirror_mode": {
    "name": "ipython",
    "version": 3
   },
   "file_extension": ".py",
   "mimetype": "text/x-python",
   "name": "python",
   "nbconvert_exporter": "python",
   "pygments_lexer": "ipython3",
   "version": "3.6.3"
  }
 },
 "nbformat": 4,
 "nbformat_minor": 2
}
